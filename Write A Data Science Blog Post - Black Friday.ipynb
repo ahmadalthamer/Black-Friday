{
 "cells": [
  {
   "cell_type": "code",
   "execution_count": 2,
   "metadata": {},
   "outputs": [],
   "source": [
    "#import  libraries\n",
    "\n",
    "import numpy as np\n",
    "import pandas as pd\n",
    "import seaborn as sns\n",
    "import matplotlib.pyplot as plt\n",
    "from sklearn.preprocessing import LabelEncoder\n",
    "%matplotlib inline"
   ]
  },
  {
   "cell_type": "markdown",
   "metadata": {},
   "source": [
    "# Business Understanding\n",
    "\n",
    "Black Friday is an informal name for the Friday following Thanksgiving Day in the United States, which is celebrated on the fourth Thursday of November. The day after Thanksgiving has been regarded as the beginning of America's Christmas shopping season since 1952. The 2018 Black Friday American consumers spent $7.9 billion, making it the biggest online shopping day in U.S. history. It is neccessary for the trader to get insights of the customers to increase the revenue. \n",
    "\n",
    "The Dataset was downloaded from Kaggle. The following questions will be answered to help the sellers\n",
    "\n",
    "First:User distribution by age and gender?\n",
    "\n",
    "Second: what are the most top 20 popular products?\n",
    "\n",
    "Third: what is the correlation between muiltiple attribute gender, Age, Occupation,etc.?\n",
    "\n",
    "By using CRISP approach I believe it will give an informative feedback to the sellers to guide them on this important period."
   ]
  },
  {
   "cell_type": "markdown",
   "metadata": {},
   "source": [
    "# Data Understanding\n",
    "The dataset were provided by Kaggle, they are sample of the transactions made in a retail store. "
   ]
  },
  {
   "cell_type": "code",
   "execution_count": 3,
   "metadata": {},
   "outputs": [
    {
     "data": {
      "text/html": [
       "<div>\n",
       "<style scoped>\n",
       "    .dataframe tbody tr th:only-of-type {\n",
       "        vertical-align: middle;\n",
       "    }\n",
       "\n",
       "    .dataframe tbody tr th {\n",
       "        vertical-align: top;\n",
       "    }\n",
       "\n",
       "    .dataframe thead th {\n",
       "        text-align: right;\n",
       "    }\n",
       "</style>\n",
       "<table border=\"1\" class=\"dataframe\">\n",
       "  <thead>\n",
       "    <tr style=\"text-align: right;\">\n",
       "      <th></th>\n",
       "      <th>User_ID</th>\n",
       "      <th>Product_ID</th>\n",
       "      <th>Gender</th>\n",
       "      <th>Age</th>\n",
       "      <th>Occupation</th>\n",
       "      <th>City_Category</th>\n",
       "      <th>Stay_In_Current_City_Years</th>\n",
       "      <th>Marital_Status</th>\n",
       "      <th>Product_Category_1</th>\n",
       "      <th>Product_Category_2</th>\n",
       "      <th>Product_Category_3</th>\n",
       "      <th>Purchase</th>\n",
       "    </tr>\n",
       "  </thead>\n",
       "  <tbody>\n",
       "    <tr>\n",
       "      <th>0</th>\n",
       "      <td>1000001</td>\n",
       "      <td>P00069042</td>\n",
       "      <td>F</td>\n",
       "      <td>0-17</td>\n",
       "      <td>10</td>\n",
       "      <td>A</td>\n",
       "      <td>2</td>\n",
       "      <td>0</td>\n",
       "      <td>3</td>\n",
       "      <td>NaN</td>\n",
       "      <td>NaN</td>\n",
       "      <td>8370</td>\n",
       "    </tr>\n",
       "    <tr>\n",
       "      <th>1</th>\n",
       "      <td>1000001</td>\n",
       "      <td>P00248942</td>\n",
       "      <td>F</td>\n",
       "      <td>0-17</td>\n",
       "      <td>10</td>\n",
       "      <td>A</td>\n",
       "      <td>2</td>\n",
       "      <td>0</td>\n",
       "      <td>1</td>\n",
       "      <td>6.0</td>\n",
       "      <td>14.0</td>\n",
       "      <td>15200</td>\n",
       "    </tr>\n",
       "    <tr>\n",
       "      <th>2</th>\n",
       "      <td>1000001</td>\n",
       "      <td>P00087842</td>\n",
       "      <td>F</td>\n",
       "      <td>0-17</td>\n",
       "      <td>10</td>\n",
       "      <td>A</td>\n",
       "      <td>2</td>\n",
       "      <td>0</td>\n",
       "      <td>12</td>\n",
       "      <td>NaN</td>\n",
       "      <td>NaN</td>\n",
       "      <td>1422</td>\n",
       "    </tr>\n",
       "    <tr>\n",
       "      <th>3</th>\n",
       "      <td>1000001</td>\n",
       "      <td>P00085442</td>\n",
       "      <td>F</td>\n",
       "      <td>0-17</td>\n",
       "      <td>10</td>\n",
       "      <td>A</td>\n",
       "      <td>2</td>\n",
       "      <td>0</td>\n",
       "      <td>12</td>\n",
       "      <td>14.0</td>\n",
       "      <td>NaN</td>\n",
       "      <td>1057</td>\n",
       "    </tr>\n",
       "    <tr>\n",
       "      <th>4</th>\n",
       "      <td>1000002</td>\n",
       "      <td>P00285442</td>\n",
       "      <td>M</td>\n",
       "      <td>55+</td>\n",
       "      <td>16</td>\n",
       "      <td>C</td>\n",
       "      <td>4+</td>\n",
       "      <td>0</td>\n",
       "      <td>8</td>\n",
       "      <td>NaN</td>\n",
       "      <td>NaN</td>\n",
       "      <td>7969</td>\n",
       "    </tr>\n",
       "  </tbody>\n",
       "</table>\n",
       "</div>"
      ],
      "text/plain": [
       "   User_ID Product_ID Gender   Age  Occupation City_Category  \\\n",
       "0  1000001  P00069042      F  0-17          10             A   \n",
       "1  1000001  P00248942      F  0-17          10             A   \n",
       "2  1000001  P00087842      F  0-17          10             A   \n",
       "3  1000001  P00085442      F  0-17          10             A   \n",
       "4  1000002  P00285442      M   55+          16             C   \n",
       "\n",
       "  Stay_In_Current_City_Years  Marital_Status  Product_Category_1  \\\n",
       "0                          2               0                   3   \n",
       "1                          2               0                   1   \n",
       "2                          2               0                  12   \n",
       "3                          2               0                  12   \n",
       "4                         4+               0                   8   \n",
       "\n",
       "   Product_Category_2  Product_Category_3  Purchase  \n",
       "0                 NaN                 NaN      8370  \n",
       "1                 6.0                14.0     15200  \n",
       "2                 NaN                 NaN      1422  \n",
       "3                14.0                 NaN      1057  \n",
       "4                 NaN                 NaN      7969  "
      ]
     },
     "execution_count": 3,
     "metadata": {},
     "output_type": "execute_result"
    }
   ],
   "source": [
    "df = pd.read_csv('./BlackFriday.csv')\n",
    "df.head()"
   ]
  },
  {
   "cell_type": "code",
   "execution_count": 4,
   "metadata": {},
   "outputs": [
    {
     "data": {
      "text/html": [
       "<div>\n",
       "<style scoped>\n",
       "    .dataframe tbody tr th:only-of-type {\n",
       "        vertical-align: middle;\n",
       "    }\n",
       "\n",
       "    .dataframe tbody tr th {\n",
       "        vertical-align: top;\n",
       "    }\n",
       "\n",
       "    .dataframe thead th {\n",
       "        text-align: right;\n",
       "    }\n",
       "</style>\n",
       "<table border=\"1\" class=\"dataframe\">\n",
       "  <thead>\n",
       "    <tr style=\"text-align: right;\">\n",
       "      <th></th>\n",
       "      <th>User_ID</th>\n",
       "      <th>Occupation</th>\n",
       "      <th>Marital_Status</th>\n",
       "      <th>Product_Category_1</th>\n",
       "      <th>Product_Category_2</th>\n",
       "      <th>Product_Category_3</th>\n",
       "      <th>Purchase</th>\n",
       "    </tr>\n",
       "  </thead>\n",
       "  <tbody>\n",
       "    <tr>\n",
       "      <th>count</th>\n",
       "      <td>5.375770e+05</td>\n",
       "      <td>537577.00000</td>\n",
       "      <td>537577.000000</td>\n",
       "      <td>537577.000000</td>\n",
       "      <td>370591.000000</td>\n",
       "      <td>164278.000000</td>\n",
       "      <td>537577.000000</td>\n",
       "    </tr>\n",
       "    <tr>\n",
       "      <th>mean</th>\n",
       "      <td>1.002992e+06</td>\n",
       "      <td>8.08271</td>\n",
       "      <td>0.408797</td>\n",
       "      <td>5.295546</td>\n",
       "      <td>9.842144</td>\n",
       "      <td>12.669840</td>\n",
       "      <td>9333.859853</td>\n",
       "    </tr>\n",
       "    <tr>\n",
       "      <th>std</th>\n",
       "      <td>1.714393e+03</td>\n",
       "      <td>6.52412</td>\n",
       "      <td>0.491612</td>\n",
       "      <td>3.750701</td>\n",
       "      <td>5.087259</td>\n",
       "      <td>4.124341</td>\n",
       "      <td>4981.022133</td>\n",
       "    </tr>\n",
       "    <tr>\n",
       "      <th>min</th>\n",
       "      <td>1.000001e+06</td>\n",
       "      <td>0.00000</td>\n",
       "      <td>0.000000</td>\n",
       "      <td>1.000000</td>\n",
       "      <td>2.000000</td>\n",
       "      <td>3.000000</td>\n",
       "      <td>185.000000</td>\n",
       "    </tr>\n",
       "    <tr>\n",
       "      <th>25%</th>\n",
       "      <td>1.001495e+06</td>\n",
       "      <td>2.00000</td>\n",
       "      <td>0.000000</td>\n",
       "      <td>1.000000</td>\n",
       "      <td>5.000000</td>\n",
       "      <td>9.000000</td>\n",
       "      <td>5866.000000</td>\n",
       "    </tr>\n",
       "    <tr>\n",
       "      <th>50%</th>\n",
       "      <td>1.003031e+06</td>\n",
       "      <td>7.00000</td>\n",
       "      <td>0.000000</td>\n",
       "      <td>5.000000</td>\n",
       "      <td>9.000000</td>\n",
       "      <td>14.000000</td>\n",
       "      <td>8062.000000</td>\n",
       "    </tr>\n",
       "    <tr>\n",
       "      <th>75%</th>\n",
       "      <td>1.004417e+06</td>\n",
       "      <td>14.00000</td>\n",
       "      <td>1.000000</td>\n",
       "      <td>8.000000</td>\n",
       "      <td>15.000000</td>\n",
       "      <td>16.000000</td>\n",
       "      <td>12073.000000</td>\n",
       "    </tr>\n",
       "    <tr>\n",
       "      <th>max</th>\n",
       "      <td>1.006040e+06</td>\n",
       "      <td>20.00000</td>\n",
       "      <td>1.000000</td>\n",
       "      <td>18.000000</td>\n",
       "      <td>18.000000</td>\n",
       "      <td>18.000000</td>\n",
       "      <td>23961.000000</td>\n",
       "    </tr>\n",
       "  </tbody>\n",
       "</table>\n",
       "</div>"
      ],
      "text/plain": [
       "            User_ID    Occupation  Marital_Status  Product_Category_1  \\\n",
       "count  5.375770e+05  537577.00000   537577.000000       537577.000000   \n",
       "mean   1.002992e+06       8.08271        0.408797            5.295546   \n",
       "std    1.714393e+03       6.52412        0.491612            3.750701   \n",
       "min    1.000001e+06       0.00000        0.000000            1.000000   \n",
       "25%    1.001495e+06       2.00000        0.000000            1.000000   \n",
       "50%    1.003031e+06       7.00000        0.000000            5.000000   \n",
       "75%    1.004417e+06      14.00000        1.000000            8.000000   \n",
       "max    1.006040e+06      20.00000        1.000000           18.000000   \n",
       "\n",
       "       Product_Category_2  Product_Category_3       Purchase  \n",
       "count       370591.000000       164278.000000  537577.000000  \n",
       "mean             9.842144           12.669840    9333.859853  \n",
       "std              5.087259            4.124341    4981.022133  \n",
       "min              2.000000            3.000000     185.000000  \n",
       "25%              5.000000            9.000000    5866.000000  \n",
       "50%              9.000000           14.000000    8062.000000  \n",
       "75%             15.000000           16.000000   12073.000000  \n",
       "max             18.000000           18.000000   23961.000000  "
      ]
     },
     "execution_count": 4,
     "metadata": {},
     "output_type": "execute_result"
    }
   ],
   "source": [
    "# General describation of the data\n",
    "df.describe()"
   ]
  },
  {
   "cell_type": "code",
   "execution_count": 5,
   "metadata": {},
   "outputs": [
    {
     "name": "stdout",
     "output_type": "stream",
     "text": [
      "number of rows 537577\n",
      "number of columns 12\n"
     ]
    }
   ],
   "source": [
    "print(\"number of rows\",df.shape[0])\n",
    "print(\"number of columns\",df.shape[1])"
   ]
  },
  {
   "cell_type": "code",
   "execution_count": 6,
   "metadata": {},
   "outputs": [
    {
     "name": "stdout",
     "output_type": "stream",
     "text": [
      "columns:\n"
     ]
    },
    {
     "data": {
      "text/plain": [
       "Index(['User_ID', 'Product_ID', 'Gender', 'Age', 'Occupation', 'City_Category',\n",
       "       'Stay_In_Current_City_Years', 'Marital_Status', 'Product_Category_1',\n",
       "       'Product_Category_2', 'Product_Category_3', 'Purchase'],\n",
       "      dtype='object')"
      ]
     },
     "execution_count": 6,
     "metadata": {},
     "output_type": "execute_result"
    }
   ],
   "source": [
    "print(\"columns:\")\n",
    "df.columns"
   ]
  },
  {
   "cell_type": "markdown",
   "metadata": {},
   "source": [
    "# Prepare Data\n",
    "In this step I will deal with data so it is going to be prepared for my analysis\n",
    "\n",
    "- I will treat the null values\n",
    "- Encode the categorical data so it can be represtitive "
   ]
  },
  {
   "cell_type": "code",
   "execution_count": 7,
   "metadata": {},
   "outputs": [
    {
     "data": {
      "text/plain": [
       "User_ID                            0\n",
       "Product_ID                         0\n",
       "Gender                             0\n",
       "Age                                0\n",
       "Occupation                         0\n",
       "City_Category                      0\n",
       "Stay_In_Current_City_Years         0\n",
       "Marital_Status                     0\n",
       "Product_Category_1                 0\n",
       "Product_Category_2            166986\n",
       "Product_Category_3            373299\n",
       "Purchase                           0\n",
       "dtype: int64"
      ]
     },
     "execution_count": 7,
     "metadata": {},
     "output_type": "execute_result"
    }
   ],
   "source": [
    "df.isnull().sum()"
   ]
  },
  {
   "cell_type": "markdown",
   "metadata": {},
   "source": [
    "\"Product_Category_2\" & \"Product_Category_3\"  are the only two attributen that has zero values and what we can see from the discribtion the min values of \"Product_Category_2\" & \"Product_Category_3\" are non-zero. So I conclude is that the missing value in \"Product_Category_2\" & \"Product_Category_3\" means the customer didn't buy anything in these two category, So i will replace them with 0."
   ]
  },
  {
   "cell_type": "code",
   "execution_count": 17,
   "metadata": {},
   "outputs": [],
   "source": [
    "#fillna full all null values in the dataframe\n",
    "df.update(df.fillna(0)) "
   ]
  },
  {
   "cell_type": "code",
   "execution_count": 9,
   "metadata": {},
   "outputs": [],
   "source": [
    "# One-hot encode the feature:  Gender, Age, City_Category, Stay_in_curent_City_Years\n",
    "le = LabelEncoder()\n",
    "df['Gender_onehot_encode']              = le.fit_transform(df['Gender'].astype(str))\n",
    "df['Age_onehot_encode']                 = le.fit_transform(df['Age'].astype(str))\n",
    "df['City_Category_onehot_encode']       = le.fit_transform(df['City_Category'].astype(str))\n",
    "df['Stay_In_Current_City_Years_encode'] = le.fit_transform(df['Stay_In_Current_City_Years'].astype(str))"
   ]
  },
  {
   "cell_type": "code",
   "execution_count": 10,
   "metadata": {},
   "outputs": [
    {
     "data": {
      "text/html": [
       "<div>\n",
       "<style scoped>\n",
       "    .dataframe tbody tr th:only-of-type {\n",
       "        vertical-align: middle;\n",
       "    }\n",
       "\n",
       "    .dataframe tbody tr th {\n",
       "        vertical-align: top;\n",
       "    }\n",
       "\n",
       "    .dataframe thead th {\n",
       "        text-align: right;\n",
       "    }\n",
       "</style>\n",
       "<table border=\"1\" class=\"dataframe\">\n",
       "  <thead>\n",
       "    <tr style=\"text-align: right;\">\n",
       "      <th></th>\n",
       "      <th>User_ID</th>\n",
       "      <th>Product_ID</th>\n",
       "      <th>Gender</th>\n",
       "      <th>Age</th>\n",
       "      <th>Occupation</th>\n",
       "      <th>City_Category</th>\n",
       "      <th>Stay_In_Current_City_Years</th>\n",
       "      <th>Marital_Status</th>\n",
       "      <th>Product_Category_1</th>\n",
       "      <th>Product_Category_2</th>\n",
       "      <th>Product_Category_3</th>\n",
       "      <th>Purchase</th>\n",
       "      <th>Gender_onehot_encode</th>\n",
       "      <th>Age_onehot_encode</th>\n",
       "      <th>City_Category_onehot_encode</th>\n",
       "      <th>Stay_In_Current_City_Years_encode</th>\n",
       "    </tr>\n",
       "  </thead>\n",
       "  <tbody>\n",
       "    <tr>\n",
       "      <th>0</th>\n",
       "      <td>1000001</td>\n",
       "      <td>P00069042</td>\n",
       "      <td>F</td>\n",
       "      <td>0-17</td>\n",
       "      <td>10</td>\n",
       "      <td>A</td>\n",
       "      <td>2</td>\n",
       "      <td>0</td>\n",
       "      <td>3</td>\n",
       "      <td>NaN</td>\n",
       "      <td>NaN</td>\n",
       "      <td>8370</td>\n",
       "      <td>0</td>\n",
       "      <td>0</td>\n",
       "      <td>0</td>\n",
       "      <td>2</td>\n",
       "    </tr>\n",
       "    <tr>\n",
       "      <th>1</th>\n",
       "      <td>1000001</td>\n",
       "      <td>P00248942</td>\n",
       "      <td>F</td>\n",
       "      <td>0-17</td>\n",
       "      <td>10</td>\n",
       "      <td>A</td>\n",
       "      <td>2</td>\n",
       "      <td>0</td>\n",
       "      <td>1</td>\n",
       "      <td>6.0</td>\n",
       "      <td>14.0</td>\n",
       "      <td>15200</td>\n",
       "      <td>0</td>\n",
       "      <td>0</td>\n",
       "      <td>0</td>\n",
       "      <td>2</td>\n",
       "    </tr>\n",
       "    <tr>\n",
       "      <th>2</th>\n",
       "      <td>1000001</td>\n",
       "      <td>P00087842</td>\n",
       "      <td>F</td>\n",
       "      <td>0-17</td>\n",
       "      <td>10</td>\n",
       "      <td>A</td>\n",
       "      <td>2</td>\n",
       "      <td>0</td>\n",
       "      <td>12</td>\n",
       "      <td>NaN</td>\n",
       "      <td>NaN</td>\n",
       "      <td>1422</td>\n",
       "      <td>0</td>\n",
       "      <td>0</td>\n",
       "      <td>0</td>\n",
       "      <td>2</td>\n",
       "    </tr>\n",
       "    <tr>\n",
       "      <th>3</th>\n",
       "      <td>1000001</td>\n",
       "      <td>P00085442</td>\n",
       "      <td>F</td>\n",
       "      <td>0-17</td>\n",
       "      <td>10</td>\n",
       "      <td>A</td>\n",
       "      <td>2</td>\n",
       "      <td>0</td>\n",
       "      <td>12</td>\n",
       "      <td>14.0</td>\n",
       "      <td>NaN</td>\n",
       "      <td>1057</td>\n",
       "      <td>0</td>\n",
       "      <td>0</td>\n",
       "      <td>0</td>\n",
       "      <td>2</td>\n",
       "    </tr>\n",
       "    <tr>\n",
       "      <th>4</th>\n",
       "      <td>1000002</td>\n",
       "      <td>P00285442</td>\n",
       "      <td>M</td>\n",
       "      <td>55+</td>\n",
       "      <td>16</td>\n",
       "      <td>C</td>\n",
       "      <td>4+</td>\n",
       "      <td>0</td>\n",
       "      <td>8</td>\n",
       "      <td>NaN</td>\n",
       "      <td>NaN</td>\n",
       "      <td>7969</td>\n",
       "      <td>1</td>\n",
       "      <td>6</td>\n",
       "      <td>2</td>\n",
       "      <td>4</td>\n",
       "    </tr>\n",
       "  </tbody>\n",
       "</table>\n",
       "</div>"
      ],
      "text/plain": [
       "   User_ID Product_ID Gender   Age  Occupation City_Category  \\\n",
       "0  1000001  P00069042      F  0-17          10             A   \n",
       "1  1000001  P00248942      F  0-17          10             A   \n",
       "2  1000001  P00087842      F  0-17          10             A   \n",
       "3  1000001  P00085442      F  0-17          10             A   \n",
       "4  1000002  P00285442      M   55+          16             C   \n",
       "\n",
       "  Stay_In_Current_City_Years  Marital_Status  Product_Category_1  \\\n",
       "0                          2               0                   3   \n",
       "1                          2               0                   1   \n",
       "2                          2               0                  12   \n",
       "3                          2               0                  12   \n",
       "4                         4+               0                   8   \n",
       "\n",
       "   Product_Category_2  Product_Category_3  Purchase  Gender_onehot_encode  \\\n",
       "0                 NaN                 NaN      8370                     0   \n",
       "1                 6.0                14.0     15200                     0   \n",
       "2                 NaN                 NaN      1422                     0   \n",
       "3                14.0                 NaN      1057                     0   \n",
       "4                 NaN                 NaN      7969                     1   \n",
       "\n",
       "   Age_onehot_encode  City_Category_onehot_encode  \\\n",
       "0                  0                            0   \n",
       "1                  0                            0   \n",
       "2                  0                            0   \n",
       "3                  0                            0   \n",
       "4                  6                            2   \n",
       "\n",
       "   Stay_In_Current_City_Years_encode  \n",
       "0                                  2  \n",
       "1                                  2  \n",
       "2                                  2  \n",
       "3                                  2  \n",
       "4                                  4  "
      ]
     },
     "execution_count": 10,
     "metadata": {},
     "output_type": "execute_result"
    }
   ],
   "source": [
    "df.head()"
   ]
  },
  {
   "cell_type": "code",
   "execution_count": 18,
   "metadata": {},
   "outputs": [
    {
     "data": {
      "text/plain": [
       "User_ID                              0\n",
       "Product_ID                           0\n",
       "Gender                               0\n",
       "Age                                  0\n",
       "Occupation                           0\n",
       "City_Category                        0\n",
       "Stay_In_Current_City_Years           0\n",
       "Marital_Status                       0\n",
       "Product_Category_1                   0\n",
       "Product_Category_2                   0\n",
       "Product_Category_3                   0\n",
       "Purchase                             0\n",
       "Gender_onehot_encode                 0\n",
       "Age_onehot_encode                    0\n",
       "City_Category_onehot_encode          0\n",
       "Stay_In_Current_City_Years_encode    0\n",
       "dtype: int64"
      ]
     },
     "execution_count": 18,
     "metadata": {},
     "output_type": "execute_result"
    }
   ],
   "source": [
    "#double ckeck if there is null vlaues\n",
    "df.isnull().sum()"
   ]
  },
  {
   "cell_type": "markdown",
   "metadata": {},
   "source": [
    "# Answers based on dataset\n"
   ]
  },
  {
   "cell_type": "markdown",
   "metadata": {},
   "source": [
    "it is necessary for the sellers to identify the audience, that will help him to target what kind of ads he/she will invest in such as type of ad type of product etc."
   ]
  },
  {
   "cell_type": "markdown",
   "metadata": {},
   "source": [
    "### Q1:User distribution by age and gender?"
   ]
  },
  {
   "cell_type": "code",
   "execution_count": 12,
   "metadata": {},
   "outputs": [
    {
     "data": {
      "text/plain": [
       "<BarContainer object of 7 artists>"
      ]
     },
     "execution_count": 12,
     "metadata": {},
     "output_type": "execute_result"
    },
    {
     "data": {
      "image/png": "[encoded data removed]",
      "text/plain": [
       "<Figure size 1440x576 with 1 Axes>"
      ]
     },
     "metadata": {
      "needs_background": "light"
     },
     "output_type": "display_data"
    }
   ],
   "source": [
    "plt.figure(figsize = (20,8))\n",
    "u, counts = np.unique(df['Age'], return_counts=True)\n",
    "plt.bar(u.astype(str), counts,align=\"center\", ec=\"k\", width=1)"
   ]
  },
  {
   "cell_type": "code",
   "execution_count": 13,
   "metadata": {},
   "outputs": [
    {
     "data": {
      "text/plain": [
       "<matplotlib.axes._subplots.AxesSubplot at 0xd7306d0>"
      ]
     },
     "execution_count": 13,
     "metadata": {},
     "output_type": "execute_result"
    },
    {
     "data": {
      "image/png": "[encoded data removed]",
      "text/plain": [
       "<Figure size 1440x576 with 1 Axes>"
      ]
     },
     "metadata": {
      "needs_background": "light"
     },
     "output_type": "display_data"
    }
   ],
   "source": [
    "\n",
    "plt.figure(figsize = (20,8))\n",
    "sns.countplot(df['Age'],hue=df['Gender'])"
   ]
  },
  {
   "cell_type": "markdown",
   "metadata": {},
   "source": [
    "We can observe from the plot that most of the users who participate in the Black Friday Sale are from age group 26-35, 36-45 and 18-25, which is reasonable as these customers needs to target those kind of discounts as each group has its own finincal concerns such age 26-35 just start their career or start working after colleage and group 18-25 they don't make alot of money they need to tackle this peroid of discounts and finally 36-45 they need to plan for their retirment life.\n",
    "\n",
    "From the second plot, we can find for all age group, Male customers shop more comparing to Female customers."
   ]
  },
  {
   "cell_type": "markdown",
   "metadata": {},
   "source": [
    "### what are the most top 20 popular products?"
   ]
  },
  {
   "cell_type": "code",
   "execution_count": 14,
   "metadata": {},
   "outputs": [
    {
     "data": {
      "text/plain": [
       "<matplotlib.axes._subplots.AxesSubplot at 0xd781170>"
      ]
     },
     "execution_count": 14,
     "metadata": {},
     "output_type": "execute_result"
    },
    {
     "data": {
      "image/png": "[encoded data removed]",
      "text/plain": [
       "<Figure size 1440x576 with 1 Axes>"
      ]
     },
     "metadata": {
      "needs_background": "light"
     },
     "output_type": "display_data"
    }
   ],
   "source": [
    "\n",
    "plt.figure(figsize = (20,8))\n",
    "products = df.groupby('Product_ID')['Purchase'].count().nlargest(20).sort_values()\n",
    "sns.barplot(products.index, products.values)"
   ]
  },
  {
   "cell_type": "markdown",
   "metadata": {},
   "source": [
    "### Q3:what is the correlation between muiltiple attribute gender, Age, Occupation,etc.?"
   ]
  },
  {
   "cell_type": "code",
   "execution_count": 15,
   "metadata": {},
   "outputs": [
    {
     "data": {
      "text/html": [
       "<div>\n",
       "<style scoped>\n",
       "    .dataframe tbody tr th:only-of-type {\n",
       "        vertical-align: middle;\n",
       "    }\n",
       "\n",
       "    .dataframe tbody tr th {\n",
       "        vertical-align: top;\n",
       "    }\n",
       "\n",
       "    .dataframe thead th {\n",
       "        text-align: right;\n",
       "    }\n",
       "</style>\n",
       "<table border=\"1\" class=\"dataframe\">\n",
       "  <thead>\n",
       "    <tr style=\"text-align: right;\">\n",
       "      <th></th>\n",
       "      <th>Gender_onehot_encode</th>\n",
       "      <th>Age_onehot_encode</th>\n",
       "      <th>Occupation</th>\n",
       "      <th>City_Category_onehot_encode</th>\n",
       "      <th>Stay_In_Current_City_Years_encode</th>\n",
       "      <th>Marital_Status</th>\n",
       "      <th>Product_Category_1</th>\n",
       "      <th>Product_Category_2</th>\n",
       "      <th>Product_Category_3</th>\n",
       "      <th>Purchase</th>\n",
       "    </tr>\n",
       "  </thead>\n",
       "  <tbody>\n",
       "    <tr>\n",
       "      <th>Gender_onehot_encode</th>\n",
       "      <td>1.000000</td>\n",
       "      <td>-0.004413</td>\n",
       "      <td>0.117294</td>\n",
       "      <td>-0.004129</td>\n",
       "      <td>0.015392</td>\n",
       "      <td>-0.010379</td>\n",
       "      <td>-0.045661</td>\n",
       "      <td>-0.018440</td>\n",
       "      <td>0.028403</td>\n",
       "      <td>0.060086</td>\n",
       "    </tr>\n",
       "    <tr>\n",
       "      <th>Age_onehot_encode</th>\n",
       "      <td>-0.004413</td>\n",
       "      <td>1.000000</td>\n",
       "      <td>0.091898</td>\n",
       "      <td>0.122308</td>\n",
       "      <td>-0.004754</td>\n",
       "      <td>0.312079</td>\n",
       "      <td>0.061951</td>\n",
       "      <td>0.054762</td>\n",
       "      <td>0.057155</td>\n",
       "      <td>0.017717</td>\n",
       "    </tr>\n",
       "    <tr>\n",
       "      <th>Occupation</th>\n",
       "      <td>0.117294</td>\n",
       "      <td>0.091898</td>\n",
       "      <td>1.000000</td>\n",
       "      <td>0.033781</td>\n",
       "      <td>0.031203</td>\n",
       "      <td>0.024691</td>\n",
       "      <td>-0.008114</td>\n",
       "      <td>-0.000031</td>\n",
       "      <td>0.013452</td>\n",
       "      <td>0.021104</td>\n",
       "    </tr>\n",
       "    <tr>\n",
       "      <th>City_Category_onehot_encode</th>\n",
       "      <td>-0.004129</td>\n",
       "      <td>0.122308</td>\n",
       "      <td>0.033781</td>\n",
       "      <td>1.000000</td>\n",
       "      <td>0.019948</td>\n",
       "      <td>0.040173</td>\n",
       "      <td>-0.027444</td>\n",
       "      <td>-0.012120</td>\n",
       "      <td>-0.002672</td>\n",
       "      <td>0.068507</td>\n",
       "    </tr>\n",
       "    <tr>\n",
       "      <th>Stay_In_Current_City_Years_encode</th>\n",
       "      <td>0.015392</td>\n",
       "      <td>-0.004754</td>\n",
       "      <td>0.031203</td>\n",
       "      <td>0.019948</td>\n",
       "      <td>1.000000</td>\n",
       "      <td>-0.012663</td>\n",
       "      <td>-0.004182</td>\n",
       "      <td>-0.001781</td>\n",
       "      <td>0.002039</td>\n",
       "      <td>0.005470</td>\n",
       "    </tr>\n",
       "    <tr>\n",
       "      <th>Marital_Status</th>\n",
       "      <td>-0.010379</td>\n",
       "      <td>0.312079</td>\n",
       "      <td>0.024691</td>\n",
       "      <td>0.040173</td>\n",
       "      <td>-0.012663</td>\n",
       "      <td>1.000000</td>\n",
       "      <td>0.020546</td>\n",
       "      <td>0.015116</td>\n",
       "      <td>0.019452</td>\n",
       "      <td>0.000129</td>\n",
       "    </tr>\n",
       "    <tr>\n",
       "      <th>Product_Category_1</th>\n",
       "      <td>-0.045661</td>\n",
       "      <td>0.061951</td>\n",
       "      <td>-0.008114</td>\n",
       "      <td>-0.027444</td>\n",
       "      <td>-0.004182</td>\n",
       "      <td>0.020546</td>\n",
       "      <td>1.000000</td>\n",
       "      <td>0.540423</td>\n",
       "      <td>0.229490</td>\n",
       "      <td>-0.314125</td>\n",
       "    </tr>\n",
       "    <tr>\n",
       "      <th>Product_Category_2</th>\n",
       "      <td>-0.018440</td>\n",
       "      <td>0.054762</td>\n",
       "      <td>-0.000031</td>\n",
       "      <td>-0.012120</td>\n",
       "      <td>-0.001781</td>\n",
       "      <td>0.015116</td>\n",
       "      <td>0.540423</td>\n",
       "      <td>1.000000</td>\n",
       "      <td>0.543544</td>\n",
       "      <td>-0.209973</td>\n",
       "    </tr>\n",
       "    <tr>\n",
       "      <th>Product_Category_3</th>\n",
       "      <td>0.028403</td>\n",
       "      <td>0.057155</td>\n",
       "      <td>0.013452</td>\n",
       "      <td>-0.002672</td>\n",
       "      <td>0.002039</td>\n",
       "      <td>0.019452</td>\n",
       "      <td>0.229490</td>\n",
       "      <td>0.543544</td>\n",
       "      <td>1.000000</td>\n",
       "      <td>-0.022257</td>\n",
       "    </tr>\n",
       "    <tr>\n",
       "      <th>Purchase</th>\n",
       "      <td>0.060086</td>\n",
       "      <td>0.017717</td>\n",
       "      <td>0.021104</td>\n",
       "      <td>0.068507</td>\n",
       "      <td>0.005470</td>\n",
       "      <td>0.000129</td>\n",
       "      <td>-0.314125</td>\n",
       "      <td>-0.209973</td>\n",
       "      <td>-0.022257</td>\n",
       "      <td>1.000000</td>\n",
       "    </tr>\n",
       "  </tbody>\n",
       "</table>\n",
       "</div>"
      ],
      "text/plain": [
       "                                   Gender_onehot_encode  Age_onehot_encode  \\\n",
       "Gender_onehot_encode                           1.000000          -0.004413   \n",
       "Age_onehot_encode                             -0.004413           1.000000   \n",
       "Occupation                                     0.117294           0.091898   \n",
       "City_Category_onehot_encode                   -0.004129           0.122308   \n",
       "Stay_In_Current_City_Years_encode              0.015392          -0.004754   \n",
       "Marital_Status                                -0.010379           0.312079   \n",
       "Product_Category_1                            -0.045661           0.061951   \n",
       "Product_Category_2                            -0.018440           0.054762   \n",
       "Product_Category_3                             0.028403           0.057155   \n",
       "Purchase                                       0.060086           0.017717   \n",
       "\n",
       "                                   Occupation  City_Category_onehot_encode  \\\n",
       "Gender_onehot_encode                 0.117294                    -0.004129   \n",
       "Age_onehot_encode                    0.091898                     0.122308   \n",
       "Occupation                           1.000000                     0.033781   \n",
       "City_Category_onehot_encode          0.033781                     1.000000   \n",
       "Stay_In_Current_City_Years_encode    0.031203                     0.019948   \n",
       "Marital_Status                       0.024691                     0.040173   \n",
       "Product_Category_1                  -0.008114                    -0.027444   \n",
       "Product_Category_2                  -0.000031                    -0.012120   \n",
       "Product_Category_3                   0.013452                    -0.002672   \n",
       "Purchase                             0.021104                     0.068507   \n",
       "\n",
       "                                   Stay_In_Current_City_Years_encode  \\\n",
       "Gender_onehot_encode                                        0.015392   \n",
       "Age_onehot_encode                                          -0.004754   \n",
       "Occupation                                                  0.031203   \n",
       "City_Category_onehot_encode                                 0.019948   \n",
       "Stay_In_Current_City_Years_encode                           1.000000   \n",
       "Marital_Status                                             -0.012663   \n",
       "Product_Category_1                                         -0.004182   \n",
       "Product_Category_2                                         -0.001781   \n",
       "Product_Category_3                                          0.002039   \n",
       "Purchase                                                    0.005470   \n",
       "\n",
       "                                   Marital_Status  Product_Category_1  \\\n",
       "Gender_onehot_encode                    -0.010379           -0.045661   \n",
       "Age_onehot_encode                        0.312079            0.061951   \n",
       "Occupation                               0.024691           -0.008114   \n",
       "City_Category_onehot_encode              0.040173           -0.027444   \n",
       "Stay_In_Current_City_Years_encode       -0.012663           -0.004182   \n",
       "Marital_Status                           1.000000            0.020546   \n",
       "Product_Category_1                       0.020546            1.000000   \n",
       "Product_Category_2                       0.015116            0.540423   \n",
       "Product_Category_3                       0.019452            0.229490   \n",
       "Purchase                                 0.000129           -0.314125   \n",
       "\n",
       "                                   Product_Category_2  Product_Category_3  \\\n",
       "Gender_onehot_encode                        -0.018440            0.028403   \n",
       "Age_onehot_encode                            0.054762            0.057155   \n",
       "Occupation                                  -0.000031            0.013452   \n",
       "City_Category_onehot_encode                 -0.012120           -0.002672   \n",
       "Stay_In_Current_City_Years_encode           -0.001781            0.002039   \n",
       "Marital_Status                               0.015116            0.019452   \n",
       "Product_Category_1                           0.540423            0.229490   \n",
       "Product_Category_2                           1.000000            0.543544   \n",
       "Product_Category_3                           0.543544            1.000000   \n",
       "Purchase                                    -0.209973           -0.022257   \n",
       "\n",
       "                                   Purchase  \n",
       "Gender_onehot_encode               0.060086  \n",
       "Age_onehot_encode                  0.017717  \n",
       "Occupation                         0.021104  \n",
       "City_Category_onehot_encode        0.068507  \n",
       "Stay_In_Current_City_Years_encode  0.005470  \n",
       "Marital_Status                     0.000129  \n",
       "Product_Category_1                -0.314125  \n",
       "Product_Category_2                -0.209973  \n",
       "Product_Category_3                -0.022257  \n",
       "Purchase                           1.000000  "
      ]
     },
     "execution_count": 15,
     "metadata": {},
     "output_type": "execute_result"
    }
   ],
   "source": [
    "Corre = df[['Gender_onehot_encode', 'Age_onehot_encode', 'Occupation', 'City_Category_onehot_encode', \n",
    "    'Stay_In_Current_City_Years_encode', 'Marital_Status', 'Product_Category_1', 'Product_Category_2', 'Product_Category_3', 'Purchase']]\n",
    "Corre.corr()"
   ]
  },
  {
   "cell_type": "code",
   "execution_count": 16,
   "metadata": {},
   "outputs": [
    {
     "data": {
      "text/plain": [
       "<matplotlib.axes._subplots.AxesSubplot at 0xd84ad30>"
      ]
     },
     "execution_count": 16,
     "metadata": {},
     "output_type": "execute_result"
    },
    {
     "data": {
      "image/png": "[encoded data removed]",
      "text/plain": [
       "<Figure size 1152x864 with 2 Axes>"
      ]
     },
     "metadata": {
      "needs_background": "light"
     },
     "output_type": "display_data"
    }
   ],
   "source": [
    "colormap = plt.cm.inferno\n",
    "plt.figure(figsize=(16,12))\n",
    "plt.title('Correlation between Gender, Age, Occupation, City_Category, Stay_In_Current_City_Years, Marital_Status, Product_Category_x vs Purchase', y=1.05, size=15)\n",
    "sns.heatmap(Corre.corr(),linewidths=0.1,vmax=1.0, \n",
    "            square=True, cmap=colormap, linecolor='Blue', annot=True)"
   ]
  },
  {
   "cell_type": "markdown",
   "metadata": {},
   "source": [
    "The heatmap shows the correlation between different attribute. we can summarize the following findings.\n",
    "    - Gender & City_Category are most positive related to Purchase comparing to other features.\n",
    "    - All Product_Category attribute are negatively correlated to Purchase.\n",
    "    - The three Product_Category are highly correlated to each other.\n",
    "    - Martial_Status are highly related to Age"
   ]
  },
  {
   "cell_type": "code",
   "execution_count": null,
   "metadata": {},
   "outputs": [],
   "source": []
  }
 ],
 "metadata": {
  "kernelspec": {
   "display_name": "Python 3",
   "language": "python",
   "name": "python3"
  },
  "language_info": {
   "codemirror_mode": {
    "name": "ipython",
    "version": 3
   },
   "file_extension": ".py",
   "mimetype": "text/x-python",
   "name": "python",
   "nbconvert_exporter": "python",
   "pygments_lexer": "ipython3",
   "version": "3.7.4"
  }
 },
 "nbformat": 4,
 "nbformat_minor": 2
}
